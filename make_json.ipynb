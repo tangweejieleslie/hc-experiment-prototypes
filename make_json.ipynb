{
 "cells": [
  {
   "cell_type": "code",
   "execution_count": 13,
   "metadata": {},
   "outputs": [],
   "source": [
    "import pandas\n",
    "import json\n",
    "\n",
    "in_path = r\".\\prototype\\src\\assets\\items.xlsx\"\n",
    "out_path = r\".\\prototype\\src\\assets\\items.json\"\n",
    "\n",
    "items_df = pandas.read_excel(in_path)"
   ]
  },
  {
   "cell_type": "code",
   "execution_count": 14,
   "metadata": {},
   "outputs": [
    {
     "data": {
      "text/plain": [
       "Index(['Category', 'Subcategory', 'name', 'price', 'img'], dtype='object')"
      ]
     },
     "execution_count": 14,
     "metadata": {},
     "output_type": "execute_result"
    }
   ],
   "source": [
    "items_df.sample()\n",
    "items_df.keys()"
   ]
  },
  {
   "cell_type": "code",
   "execution_count": 17,
   "metadata": {},
   "outputs": [
    {
     "name": "stdout",
     "output_type": "stream",
     "text": [
      "Valued Bento\n",
      "Local Bento\n",
      "The Old Chang Kee Platter\n",
      "Old Chang Kee Favourites (Min Order of $150)\n"
     ]
    }
   ],
   "source": [
    "items_dict = {}\n",
    "\n",
    "for category in items_df['Category'].unique():\n",
    "    print(category)\n",
    "    items_dict[category] = {}\n",
    "    \n",
    "    subcats = items_df[ items_df['Category'] == category ]['Subcategory'].unique()\n",
    "    \n",
    "    for subcategory in subcats:\n",
    "        items_dict[category][subcategory] = []"
   ]
  },
  {
   "cell_type": "code",
   "execution_count": 18,
   "metadata": {},
   "outputs": [],
   "source": [
    "for index, row in items_df.iterrows():\n",
    "    item = {\n",
    "        'id':index,\n",
    "        'name':row['name'],\n",
    "        'price':row['price'],\n",
    "        'img': row['img']\n",
    "    }\n",
    "    \n",
    "    items_dict[row['Category']][row['Subcategory']].append(item)\n"
   ]
  },
  {
   "cell_type": "code",
   "execution_count": 19,
   "metadata": {},
   "outputs": [],
   "source": [
    "with open(out_path,'w') as f:\n",
    "    json.dump(items_dict,f)"
   ]
  }
 ],
 "metadata": {
  "kernelspec": {
   "display_name": "Python 3",
   "language": "python",
   "name": "python3"
  },
  "language_info": {
   "codemirror_mode": {
    "name": "ipython",
    "version": 3
   },
   "file_extension": ".py",
   "mimetype": "text/x-python",
   "name": "python",
   "nbconvert_exporter": "python",
   "pygments_lexer": "ipython3",
   "version": "3.7.3"
  }
 },
 "nbformat": 4,
 "nbformat_minor": 2
}
